{
  "nbformat": 4,
  "nbformat_minor": 0,
  "metadata": {
    "colab": {
      "name": "KK Slider Deepfake.ipynb",
      "provenance": [],
      "collapsed_sections": [],
      "toc_visible": true,
      "machine_shape": "hm"
    },
    "kernelspec": {
      "name": "python3",
      "display_name": "Python 3"
    }
  },
  "cells": [
    {
      "cell_type": "markdown",
      "metadata": {
        "id": "JS9hNOQW1gyl"
      },
      "source": [
        "#  KK Slider Deepfake\n",
        "*by Michael D'Argenio*  \n",
        "\\\n",
        "**Have KK Slider from Animal Crossing record a custom message for your or your friend's special occasion!**  \n",
        "\\\n",
        "This program uses moviepy and pydub to generate video and audio of KK Slider. This program works like cameo.com where you can ask a celebrity to record a custom message for your or your friend's special occasion. This program allows you to request KK Slider to record a custom message for any occasion.  \n",
        "\\\n",
        "**Credit to GitHub User equalo-official**  \n",
        "This program uses the source code for the animalese generatorfrom equalo-official. It has been slightly modified for use in this project. View his project here: https://github.com/equalo-official/animalese-generator  \n"
      ]
    },
    {
      "cell_type": "code",
      "metadata": {
        "id": "QWvu3DlSOxrO"
      },
      "source": [
        "# update packages and install imagemagick and ffmpeg\n",
        "!apt update &> /dev/null\n",
        "!apt install imagemagick &> /dev/null\n",
        "!apt install ffmpeg &> /dev/null\n",
        "\n",
        "# install python dependencies\n",
        "!pip3 install pydub &> /dev/null\n",
        "!pip3 install nltk &> /dev/null\n",
        "import nltk\n",
        "nltk.download('punkt')\n",
        "!pip3 install moviepy[optional]==1.0.3 &> /dev/null\n",
        "!sed -i '/<policy domain=\"path\" rights=\"none\" pattern=\"@\\*\"/d' /etc/ImageMagick-6/policy.xml\n",
        "!pip3 list | grep moviepy\n",
        "\n",
        "# clone repository and change directory\n",
        "!git clone https://github.com/mjdargen/KK-Deepfake.git\n",
        "%cd ./KK-Deepfake"
      ],
      "execution_count": null,
      "outputs": []
    },
    {
      "cell_type": "code",
      "metadata": {
        "id": "sjroikGlXeZs"
      },
      "source": [
        "# run program\n",
        "# will prompt for input\n",
        "# add custom text that you want KK Slider to say\n",
        "!python3 kkdeepfake.py"
      ],
      "execution_count": null,
      "outputs": []
    },
    {
      "cell_type": "code",
      "metadata": {
        "id": "6pDKCeAgaxc4"
      },
      "source": [
        "# download resulting file.\n",
        "# sometimes it doesn't work immediately, you have \n",
        "# to give it sometime for file to be accessible.\n",
        "# or you can download from file pane on the left\n",
        "for i in range(0,10):\n",
        "  try:\n",
        "    files.download('output.mp4')\n",
        "  except: \n",
        "    time.sleep(10)\n",
        "    continue\n",
        "  break"
      ],
      "execution_count": null,
      "outputs": []
    }
  ]
}